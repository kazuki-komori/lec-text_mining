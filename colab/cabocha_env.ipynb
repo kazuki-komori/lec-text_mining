{
  "nbformat": 4,
  "nbformat_minor": 0,
  "metadata": {
    "colab": {
      "name": "cabocha_env.ipynb",
      "provenance": [],
      "mount_file_id": "1zp2AVbJmZZPKOxu6dk6wyK2zSMyzfBOm",
      "authorship_tag": "ABX9TyP7lAWl5QI2U6+ieIIw9uJA",
      "include_colab_link": true
    },
    "kernelspec": {
      "name": "python3",
      "display_name": "Python 3"
    },
    "language_info": {
      "name": "python"
    }
  },
  "cells": [
    {
      "cell_type": "markdown",
      "metadata": {
        "id": "view-in-github",
        "colab_type": "text"
      },
      "source": [
        "<a href=\"https://colab.research.google.com/github/kazuki-komori/lec-text_mining/blob/master/colab/cabocha_env.ipynb\" target=\"_parent\"><img src=\"https://colab.research.google.com/assets/colab-badge.svg\" alt=\"Open In Colab\"/></a>"
      ]
    },
    {
      "cell_type": "code",
      "metadata": {
        "id": "Pw5TJ13tqwmB"
      },
      "source": [
        "%%bash\n",
        "# mecabとmecab-python3の依存関係をインストール\n",
        "apt-get install mecab swig libmecab-dev mecab-ipadic-utf8\n",
        "# mecab-pythonのインストール\n",
        "pip install mecab-python3\n",
        "\n",
        "# crfppダウンロード(cabochaの依存関係)\n",
        "curl -sL -o CRF++-0.58.tar.gz \"https://drive.google.com/uc?export=download&id=0B4y35FiV1wh7QVR6VXJ5dWExSTQ\"\n",
        "tar -zxf CRF++-0.58.tar.gz\n",
        "# crfppインストール\n",
        "cd CRF++-0.58\n",
        "./configure && make && make install && ldconfig\n",
        "cd ..\n",
        "\n",
        "# cabochaダウンロード\n",
        "url=\"https://drive.google.com/uc?export=download&id=0B4y35FiV1wh7SDd1Q1dUQkZQaUU\"\n",
        "curl -sc /tmp/cookie ${url} >/dev/null\n",
        "code=\"$(awk '/_warning_/ {print $NF}' /tmp/cookie)\"\n",
        "curl -sLb /tmp/cookie ${url}\"&confirm=${code}\" -o cabocha-0.69.tar.bz2\n",
        "tar -jxf cabocha-0.69.tar.bz2\n",
        "# cabochaインストール\n",
        "cd cabocha-0.69\n",
        "./configure -with-charset=utf-8 && make && make check && make install && ldconfig\n",
        "# cabocha-pythonのインストール\n",
        "pip install python/\n",
        "cd .."
      ],
      "execution_count": null,
      "outputs": []
    },
    {
      "cell_type": "code",
      "metadata": {
        "id": "pBWnM8s7sHMm"
      },
      "source": [
        "%%bash\n",
        "mecab -v\n",
        "pip show mecab-python3 | grep -e Name -e Version && echo\n",
        "cabocha -v && echo\n",
        "pip show cabocha-python | grep -e Name -e Version "
      ],
      "execution_count": null,
      "outputs": []
    },
    {
      "cell_type": "code",
      "metadata": {
        "id": "6bp03WhJtURd"
      },
      "source": [
        "import re\n",
        "def create_txtarr(fn):\n",
        "  with open(fn, encoding=\"UTF-8\") as fh:\n",
        "    txt = fh.read()\n",
        "  return re.findall(\".*?。\", txt)\n"
      ],
      "execution_count": 14,
      "outputs": []
    },
    {
      "cell_type": "code",
      "metadata": {
        "id": "0H-HUZ2EvD3C"
      },
      "source": [
        "import CaboCha\n",
        "def txt_to_cabocha(arr):\n",
        "  for t in arr:\n",
        "    cp = CaboCha.Parser()\n",
        "    tree = cp.parse(t)\n",
        "    return tree.toString(CaboCha.FORMAT_LATTICE)"
      ],
      "execution_count": 32,
      "outputs": []
    },
    {
      "cell_type": "code",
      "metadata": {
        "colab": {
          "base_uri": "https://localhost:8080/"
        },
        "id": "jy_Fps-bsQ-P",
        "outputId": "e0538070-c9ee-458d-f187-87ba93ab64da"
      },
      "source": [
        "import os\n",
        "\n",
        "_dir = \"/content/drive/MyDrive/text-mining/fixed/\"\n",
        "_out_dir = \"/content/drive/MyDrive/text-mining/clean/\"\n",
        "authors = [\"akutagawa\", \"dazai\"]\n",
        "\n",
        "for author in authors:\n",
        "  find_dir = _dir + author + \"/\"\n",
        "  fs = os.listdir(find_dir)\n",
        "  for f in fs:\n",
        "    print(f)\n",
        "    arr = create_txtarr(find_dir + f)\n",
        "    cabocha_res = txt_to_cabocha(arr)\n",
        "\n",
        "    with open(_out_dir + author + \"/\" + f, \"w\") as fh:\n",
        "      fh.write(cabocha_res)\n",
        "\n"
      ],
      "execution_count": 33,
      "outputs": [
        {
          "output_type": "stream",
          "name": "stdout",
          "text": [
            "kiseru2.txt\n",
            "rashomon2.txt\n",
            "hana2.txt\n",
            "kaigara2.txt\n",
            "jigokuhen_shinji2.txt\n",
            "torokko2.txt\n",
            "karenosho2.txt\n",
            "kaeru2.txt\n",
            "sarano_hana2.txt\n",
            "onna2.txt\n",
            "anitachi2.txt\n",
            "onnano_ketto2.txt\n",
            "uso2.txt\n",
            "asa2.txt\n",
            "kirigirisu2.txt\n",
            "hashire_merosu2.txt\n",
            "asamasiki_mono2.txt\n",
            "soseiki2.txt\n",
            "sekibetsu2.txt\n",
            "ningen_shikkaku2.txt\n"
          ]
        }
      ]
    }
  ]
}